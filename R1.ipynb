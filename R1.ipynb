{
 "cells": [
  {
   "cell_type": "code",
   "execution_count": 1,
   "id": "4a0bca23-ec26-4a8a-91cb-d9e74cdbd89d",
   "metadata": {},
   "outputs": [
    {
     "name": "stderr",
     "output_type": "stream",
     "text": [
      "\n",
      "Attaching package: ‘dplyr’\n",
      "\n",
      "\n",
      "The following objects are masked from ‘package:stats’:\n",
      "\n",
      "    filter, lag\n",
      "\n",
      "\n",
      "The following objects are masked from ‘package:base’:\n",
      "\n",
      "    intersect, setdiff, setequal, union\n",
      "\n",
      "\n"
     ]
    }
   ],
   "source": [
    "library(dplyr)"
   ]
  },
  {
   "cell_type": "code",
   "execution_count": 2,
   "id": "df1952c2-c2be-4c24-af1f-77b17d2830ea",
   "metadata": {},
   "outputs": [],
   "source": [
    "phone_data <- read.csv(\"/home/nmit/Downloads/phone_data.csv\")"
   ]
  },
  {
   "cell_type": "code",
   "execution_count": 3,
   "id": "e276872f-57bd-42bc-b3c5-ff553c6cf09c",
   "metadata": {},
   "outputs": [
    {
     "data": {
      "text/html": [
       "<table class=\"dataframe\">\n",
       "<caption>A data.frame: 830 × 7</caption>\n",
       "<thead>\n",
       "\t<tr><th scope=col>index</th><th scope=col>date</th><th scope=col>duration</th><th scope=col>item</th><th scope=col>month</th><th scope=col>network</th><th scope=col>network_type</th></tr>\n",
       "\t<tr><th scope=col>&lt;int&gt;</th><th scope=col>&lt;chr&gt;</th><th scope=col>&lt;dbl&gt;</th><th scope=col>&lt;chr&gt;</th><th scope=col>&lt;chr&gt;</th><th scope=col>&lt;chr&gt;</th><th scope=col>&lt;chr&gt;</th></tr>\n",
       "</thead>\n",
       "<tbody>\n",
       "\t<tr><td> 0</td><td>15/10/14 06:58</td><td>  34.429</td><td>data</td><td>2014-11</td><td>data     </td><td>data     </td></tr>\n",
       "\t<tr><td> 1</td><td>15/10/14 06:58</td><td>  13.000</td><td>call</td><td>2014-11</td><td>Vodafone </td><td>mobile   </td></tr>\n",
       "\t<tr><td> 2</td><td>15/10/14 14:46</td><td>  23.000</td><td>call</td><td>2014-11</td><td>Meteor   </td><td>mobile   </td></tr>\n",
       "\t<tr><td> 3</td><td>15/10/14 14:48</td><td>   4.000</td><td>call</td><td>2014-11</td><td>Tesco    </td><td>mobile   </td></tr>\n",
       "\t<tr><td> 4</td><td>15/10/14 17:27</td><td>   4.000</td><td>call</td><td>2014-11</td><td>Tesco    </td><td>mobile   </td></tr>\n",
       "\t<tr><td> 5</td><td>15/10/14 18:55</td><td>   4.000</td><td>call</td><td>2014-11</td><td>Tesco    </td><td>mobile   </td></tr>\n",
       "\t<tr><td> 6</td><td>16/10/14 06:58</td><td>  34.429</td><td>data</td><td>2014-11</td><td>data     </td><td>data     </td></tr>\n",
       "\t<tr><td> 7</td><td>16/10/14 15:01</td><td> 602.000</td><td>call</td><td>2014-11</td><td>Three    </td><td>mobile   </td></tr>\n",
       "\t<tr><td> 8</td><td>16/10/14 15:12</td><td>1050.000</td><td>call</td><td>2014-11</td><td>Three    </td><td>mobile   </td></tr>\n",
       "\t<tr><td> 9</td><td>16/10/14 15:30</td><td>  19.000</td><td>call</td><td>2014-11</td><td>voicemail</td><td>voicemail</td></tr>\n",
       "\t<tr><td>10</td><td>16/10/14 16:21</td><td>1183.000</td><td>call</td><td>2014-11</td><td>Three    </td><td>mobile   </td></tr>\n",
       "\t<tr><td>11</td><td>16/10/14 22:18</td><td>   1.000</td><td>sms </td><td>2014-11</td><td>Meteor   </td><td>mobile   </td></tr>\n",
       "\t<tr><td>12</td><td>16/10/14 22:21</td><td>   1.000</td><td>sms </td><td>2014-11</td><td>Meteor   </td><td>mobile   </td></tr>\n",
       "\t<tr><td>13</td><td>17/10/14 06:58</td><td>  34.429</td><td>data</td><td>2014-11</td><td>data     </td><td>data     </td></tr>\n",
       "\t<tr><td>14</td><td>17/10/14 10:53</td><td>   1.000</td><td>sms </td><td>2014-11</td><td>Tesco    </td><td>mobile   </td></tr>\n",
       "\t<tr><td>15</td><td>17/10/14 11:19</td><td>   1.000</td><td>sms </td><td>2014-11</td><td>Tesco    </td><td>mobile   </td></tr>\n",
       "\t<tr><td>16</td><td>17/10/14 11:20</td><td>   1.000</td><td>sms </td><td>2014-11</td><td>Meteor   </td><td>mobile   </td></tr>\n",
       "\t<tr><td>17</td><td>17/10/14 17:22</td><td>   1.000</td><td>sms </td><td>2014-11</td><td>Vodafone </td><td>mobile   </td></tr>\n",
       "\t<tr><td>18</td><td>17/10/14 17:23</td><td>   1.000</td><td>sms </td><td>2014-11</td><td>Vodafone </td><td>mobile   </td></tr>\n",
       "\t<tr><td>19</td><td>17/10/14 17:26</td><td>  92.000</td><td>call</td><td>2014-11</td><td>Three    </td><td>mobile   </td></tr>\n",
       "\t<tr><td>20</td><td>17/10/14 17:29</td><td>   4.000</td><td>call</td><td>2014-11</td><td>Vodafone </td><td>mobile   </td></tr>\n",
       "\t<tr><td>21</td><td>17/10/14 17:30</td><td> 375.000</td><td>call</td><td>2014-11</td><td>Tesco    </td><td>mobile   </td></tr>\n",
       "\t<tr><td>22</td><td>17/10/14 17:42</td><td>   1.000</td><td>sms </td><td>2014-11</td><td>Vodafone </td><td>mobile   </td></tr>\n",
       "\t<tr><td>23</td><td>17/10/14 17:44</td><td>   1.000</td><td>sms </td><td>2014-11</td><td>Vodafone </td><td>mobile   </td></tr>\n",
       "\t<tr><td>24</td><td>17/10/14 17:44</td><td>   1.000</td><td>sms </td><td>2014-11</td><td>Vodafone </td><td>mobile   </td></tr>\n",
       "\t<tr><td>25</td><td>17/10/14 17:44</td><td>   1.000</td><td>sms </td><td>2014-11</td><td>Vodafone </td><td>mobile   </td></tr>\n",
       "\t<tr><td>26</td><td>18/10/14 06:58</td><td>  34.429</td><td>data</td><td>2014-11</td><td>data     </td><td>data     </td></tr>\n",
       "\t<tr><td>27</td><td>18/10/14 11:51</td><td> 783.000</td><td>call</td><td>2014-11</td><td>Tesco    </td><td>mobile   </td></tr>\n",
       "\t<tr><td>28</td><td>18/10/14 12:06</td><td>   4.000</td><td>call</td><td>2014-11</td><td>Vodafone </td><td>mobile   </td></tr>\n",
       "\t<tr><td>29</td><td>18/10/14 12:06</td><td>   3.000</td><td>call</td><td>2014-11</td><td>Vodafone </td><td>mobile   </td></tr>\n",
       "\t<tr><td>⋮</td><td>⋮</td><td>⋮</td><td>⋮</td><td>⋮</td><td>⋮</td><td>⋮</td></tr>\n",
       "\t<tr><td>800</td><td>2/3/2015 14:53</td><td>    2.000</td><td>call</td><td>2015-03</td><td>voicemail</td><td>voicemail</td></tr>\n",
       "\t<tr><td>801</td><td>2/3/2015 14:54</td><td>   93.000</td><td>call</td><td>2015-03</td><td>voicemail</td><td>voicemail</td></tr>\n",
       "\t<tr><td>802</td><td>2/3/2015 17:35</td><td>  192.000</td><td>call</td><td>2015-03</td><td>Meteor   </td><td>mobile   </td></tr>\n",
       "\t<tr><td>803</td><td>2/3/2015 20:48</td><td>   34.000</td><td>call</td><td>2015-03</td><td>Tesco    </td><td>mobile   </td></tr>\n",
       "\t<tr><td>804</td><td>3/3/2015 6:58 </td><td>   34.429</td><td>data</td><td>2015-03</td><td>data     </td><td>data     </td></tr>\n",
       "\t<tr><td>805</td><td>3/3/2015 9:57 </td><td>   76.000</td><td>call</td><td>2015-03</td><td>landline </td><td>landline </td></tr>\n",
       "\t<tr><td>806</td><td>3/3/2015 9:59 </td><td>  355.000</td><td>call</td><td>2015-03</td><td>Three    </td><td>mobile   </td></tr>\n",
       "\t<tr><td>807</td><td>3/3/2015 10:12</td><td>  745.000</td><td>call</td><td>2015-03</td><td>Vodafone </td><td>mobile   </td></tr>\n",
       "\t<tr><td>808</td><td>3/3/2015 10:27</td><td>   57.000</td><td>call</td><td>2015-03</td><td>Vodafone </td><td>mobile   </td></tr>\n",
       "\t<tr><td>809</td><td>3/3/2015 14:34</td><td> 1325.000</td><td>call</td><td>2015-03</td><td>Vodafone </td><td>mobile   </td></tr>\n",
       "\t<tr><td>810</td><td>3/3/2015 18:36</td><td>  768.000</td><td>call</td><td>2015-03</td><td>Three    </td><td>mobile   </td></tr>\n",
       "\t<tr><td>811</td><td>4/3/2015 6:58 </td><td>   34.429</td><td>data</td><td>2015-03</td><td>data     </td><td>data     </td></tr>\n",
       "\t<tr><td>812</td><td>4/3/2015 7:02 </td><td>    1.000</td><td>sms </td><td>2015-03</td><td>Vodafone </td><td>mobile   </td></tr>\n",
       "\t<tr><td>813</td><td>4/3/2015 7:16 </td><td>    1.000</td><td>sms </td><td>2015-03</td><td>Vodafone </td><td>mobile   </td></tr>\n",
       "\t<tr><td>814</td><td>4/3/2015 10:30</td><td>    1.000</td><td>sms </td><td>2015-03</td><td>Three    </td><td>mobile   </td></tr>\n",
       "\t<tr><td>815</td><td>4/3/2015 10:30</td><td>    1.000</td><td>sms </td><td>2015-03</td><td>Three    </td><td>mobile   </td></tr>\n",
       "\t<tr><td>816</td><td>4/3/2015 12:29</td><td>10528.000</td><td>call</td><td>2015-03</td><td>landline </td><td>landline </td></tr>\n",
       "\t<tr><td>817</td><td>5/3/2015 6:58 </td><td>   34.429</td><td>data</td><td>2015-03</td><td>data     </td><td>data     </td></tr>\n",
       "\t<tr><td>818</td><td>6/3/2015 6:58 </td><td>   34.429</td><td>data</td><td>2015-03</td><td>data     </td><td>data     </td></tr>\n",
       "\t<tr><td>819</td><td>7/3/2015 6:58 </td><td>   34.429</td><td>data</td><td>2015-03</td><td>data     </td><td>data     </td></tr>\n",
       "\t<tr><td>820</td><td>8/3/2015 6:58 </td><td>   34.429</td><td>data</td><td>2015-03</td><td>data     </td><td>data     </td></tr>\n",
       "\t<tr><td>821</td><td>9/3/2015 6:58 </td><td>   34.429</td><td>data</td><td>2015-03</td><td>data     </td><td>data     </td></tr>\n",
       "\t<tr><td>822</td><td>10/3/2015 6:58</td><td>   34.429</td><td>data</td><td>2015-03</td><td>data     </td><td>data     </td></tr>\n",
       "\t<tr><td>823</td><td>11/3/2015 6:58</td><td>   34.429</td><td>data</td><td>2015-03</td><td>data     </td><td>data     </td></tr>\n",
       "\t<tr><td>824</td><td>12/3/2015 6:58</td><td>   34.429</td><td>data</td><td>2015-03</td><td>data     </td><td>data     </td></tr>\n",
       "\t<tr><td>825</td><td>13/03/15 00:38</td><td>    1.000</td><td>sms </td><td>2015-03</td><td>world    </td><td>world    </td></tr>\n",
       "\t<tr><td>826</td><td>13/03/15 00:39</td><td>    1.000</td><td>sms </td><td>2015-03</td><td>Vodafone </td><td>mobile   </td></tr>\n",
       "\t<tr><td>827</td><td>13/03/15 06:58</td><td>   34.429</td><td>data</td><td>2015-03</td><td>data     </td><td>data     </td></tr>\n",
       "\t<tr><td>828</td><td>14/03/15 00:13</td><td>    1.000</td><td>sms </td><td>2015-03</td><td>world    </td><td>world    </td></tr>\n",
       "\t<tr><td>829</td><td>14/03/15 00:16</td><td>    1.000</td><td>sms </td><td>2015-03</td><td>world    </td><td>world    </td></tr>\n",
       "</tbody>\n",
       "</table>\n"
      ],
      "text/latex": [
       "A data.frame: 830 × 7\n",
       "\\begin{tabular}{lllllll}\n",
       " index & date & duration & item & month & network & network\\_type\\\\\n",
       " <int> & <chr> & <dbl> & <chr> & <chr> & <chr> & <chr>\\\\\n",
       "\\hline\n",
       "\t  0 & 15/10/14 06:58 &   34.429 & data & 2014-11 & data      & data     \\\\\n",
       "\t  1 & 15/10/14 06:58 &   13.000 & call & 2014-11 & Vodafone  & mobile   \\\\\n",
       "\t  2 & 15/10/14 14:46 &   23.000 & call & 2014-11 & Meteor    & mobile   \\\\\n",
       "\t  3 & 15/10/14 14:48 &    4.000 & call & 2014-11 & Tesco     & mobile   \\\\\n",
       "\t  4 & 15/10/14 17:27 &    4.000 & call & 2014-11 & Tesco     & mobile   \\\\\n",
       "\t  5 & 15/10/14 18:55 &    4.000 & call & 2014-11 & Tesco     & mobile   \\\\\n",
       "\t  6 & 16/10/14 06:58 &   34.429 & data & 2014-11 & data      & data     \\\\\n",
       "\t  7 & 16/10/14 15:01 &  602.000 & call & 2014-11 & Three     & mobile   \\\\\n",
       "\t  8 & 16/10/14 15:12 & 1050.000 & call & 2014-11 & Three     & mobile   \\\\\n",
       "\t  9 & 16/10/14 15:30 &   19.000 & call & 2014-11 & voicemail & voicemail\\\\\n",
       "\t 10 & 16/10/14 16:21 & 1183.000 & call & 2014-11 & Three     & mobile   \\\\\n",
       "\t 11 & 16/10/14 22:18 &    1.000 & sms  & 2014-11 & Meteor    & mobile   \\\\\n",
       "\t 12 & 16/10/14 22:21 &    1.000 & sms  & 2014-11 & Meteor    & mobile   \\\\\n",
       "\t 13 & 17/10/14 06:58 &   34.429 & data & 2014-11 & data      & data     \\\\\n",
       "\t 14 & 17/10/14 10:53 &    1.000 & sms  & 2014-11 & Tesco     & mobile   \\\\\n",
       "\t 15 & 17/10/14 11:19 &    1.000 & sms  & 2014-11 & Tesco     & mobile   \\\\\n",
       "\t 16 & 17/10/14 11:20 &    1.000 & sms  & 2014-11 & Meteor    & mobile   \\\\\n",
       "\t 17 & 17/10/14 17:22 &    1.000 & sms  & 2014-11 & Vodafone  & mobile   \\\\\n",
       "\t 18 & 17/10/14 17:23 &    1.000 & sms  & 2014-11 & Vodafone  & mobile   \\\\\n",
       "\t 19 & 17/10/14 17:26 &   92.000 & call & 2014-11 & Three     & mobile   \\\\\n",
       "\t 20 & 17/10/14 17:29 &    4.000 & call & 2014-11 & Vodafone  & mobile   \\\\\n",
       "\t 21 & 17/10/14 17:30 &  375.000 & call & 2014-11 & Tesco     & mobile   \\\\\n",
       "\t 22 & 17/10/14 17:42 &    1.000 & sms  & 2014-11 & Vodafone  & mobile   \\\\\n",
       "\t 23 & 17/10/14 17:44 &    1.000 & sms  & 2014-11 & Vodafone  & mobile   \\\\\n",
       "\t 24 & 17/10/14 17:44 &    1.000 & sms  & 2014-11 & Vodafone  & mobile   \\\\\n",
       "\t 25 & 17/10/14 17:44 &    1.000 & sms  & 2014-11 & Vodafone  & mobile   \\\\\n",
       "\t 26 & 18/10/14 06:58 &   34.429 & data & 2014-11 & data      & data     \\\\\n",
       "\t 27 & 18/10/14 11:51 &  783.000 & call & 2014-11 & Tesco     & mobile   \\\\\n",
       "\t 28 & 18/10/14 12:06 &    4.000 & call & 2014-11 & Vodafone  & mobile   \\\\\n",
       "\t 29 & 18/10/14 12:06 &    3.000 & call & 2014-11 & Vodafone  & mobile   \\\\\n",
       "\t ⋮ & ⋮ & ⋮ & ⋮ & ⋮ & ⋮ & ⋮\\\\\n",
       "\t 800 & 2/3/2015 14:53 &     2.000 & call & 2015-03 & voicemail & voicemail\\\\\n",
       "\t 801 & 2/3/2015 14:54 &    93.000 & call & 2015-03 & voicemail & voicemail\\\\\n",
       "\t 802 & 2/3/2015 17:35 &   192.000 & call & 2015-03 & Meteor    & mobile   \\\\\n",
       "\t 803 & 2/3/2015 20:48 &    34.000 & call & 2015-03 & Tesco     & mobile   \\\\\n",
       "\t 804 & 3/3/2015 6:58  &    34.429 & data & 2015-03 & data      & data     \\\\\n",
       "\t 805 & 3/3/2015 9:57  &    76.000 & call & 2015-03 & landline  & landline \\\\\n",
       "\t 806 & 3/3/2015 9:59  &   355.000 & call & 2015-03 & Three     & mobile   \\\\\n",
       "\t 807 & 3/3/2015 10:12 &   745.000 & call & 2015-03 & Vodafone  & mobile   \\\\\n",
       "\t 808 & 3/3/2015 10:27 &    57.000 & call & 2015-03 & Vodafone  & mobile   \\\\\n",
       "\t 809 & 3/3/2015 14:34 &  1325.000 & call & 2015-03 & Vodafone  & mobile   \\\\\n",
       "\t 810 & 3/3/2015 18:36 &   768.000 & call & 2015-03 & Three     & mobile   \\\\\n",
       "\t 811 & 4/3/2015 6:58  &    34.429 & data & 2015-03 & data      & data     \\\\\n",
       "\t 812 & 4/3/2015 7:02  &     1.000 & sms  & 2015-03 & Vodafone  & mobile   \\\\\n",
       "\t 813 & 4/3/2015 7:16  &     1.000 & sms  & 2015-03 & Vodafone  & mobile   \\\\\n",
       "\t 814 & 4/3/2015 10:30 &     1.000 & sms  & 2015-03 & Three     & mobile   \\\\\n",
       "\t 815 & 4/3/2015 10:30 &     1.000 & sms  & 2015-03 & Three     & mobile   \\\\\n",
       "\t 816 & 4/3/2015 12:29 & 10528.000 & call & 2015-03 & landline  & landline \\\\\n",
       "\t 817 & 5/3/2015 6:58  &    34.429 & data & 2015-03 & data      & data     \\\\\n",
       "\t 818 & 6/3/2015 6:58  &    34.429 & data & 2015-03 & data      & data     \\\\\n",
       "\t 819 & 7/3/2015 6:58  &    34.429 & data & 2015-03 & data      & data     \\\\\n",
       "\t 820 & 8/3/2015 6:58  &    34.429 & data & 2015-03 & data      & data     \\\\\n",
       "\t 821 & 9/3/2015 6:58  &    34.429 & data & 2015-03 & data      & data     \\\\\n",
       "\t 822 & 10/3/2015 6:58 &    34.429 & data & 2015-03 & data      & data     \\\\\n",
       "\t 823 & 11/3/2015 6:58 &    34.429 & data & 2015-03 & data      & data     \\\\\n",
       "\t 824 & 12/3/2015 6:58 &    34.429 & data & 2015-03 & data      & data     \\\\\n",
       "\t 825 & 13/03/15 00:38 &     1.000 & sms  & 2015-03 & world     & world    \\\\\n",
       "\t 826 & 13/03/15 00:39 &     1.000 & sms  & 2015-03 & Vodafone  & mobile   \\\\\n",
       "\t 827 & 13/03/15 06:58 &    34.429 & data & 2015-03 & data      & data     \\\\\n",
       "\t 828 & 14/03/15 00:13 &     1.000 & sms  & 2015-03 & world     & world    \\\\\n",
       "\t 829 & 14/03/15 00:16 &     1.000 & sms  & 2015-03 & world     & world    \\\\\n",
       "\\end{tabular}\n"
      ],
      "text/markdown": [
       "\n",
       "A data.frame: 830 × 7\n",
       "\n",
       "| index &lt;int&gt; | date &lt;chr&gt; | duration &lt;dbl&gt; | item &lt;chr&gt; | month &lt;chr&gt; | network &lt;chr&gt; | network_type &lt;chr&gt; |\n",
       "|---|---|---|---|---|---|---|\n",
       "|  0 | 15/10/14 06:58 |   34.429 | data | 2014-11 | data      | data      |\n",
       "|  1 | 15/10/14 06:58 |   13.000 | call | 2014-11 | Vodafone  | mobile    |\n",
       "|  2 | 15/10/14 14:46 |   23.000 | call | 2014-11 | Meteor    | mobile    |\n",
       "|  3 | 15/10/14 14:48 |    4.000 | call | 2014-11 | Tesco     | mobile    |\n",
       "|  4 | 15/10/14 17:27 |    4.000 | call | 2014-11 | Tesco     | mobile    |\n",
       "|  5 | 15/10/14 18:55 |    4.000 | call | 2014-11 | Tesco     | mobile    |\n",
       "|  6 | 16/10/14 06:58 |   34.429 | data | 2014-11 | data      | data      |\n",
       "|  7 | 16/10/14 15:01 |  602.000 | call | 2014-11 | Three     | mobile    |\n",
       "|  8 | 16/10/14 15:12 | 1050.000 | call | 2014-11 | Three     | mobile    |\n",
       "|  9 | 16/10/14 15:30 |   19.000 | call | 2014-11 | voicemail | voicemail |\n",
       "| 10 | 16/10/14 16:21 | 1183.000 | call | 2014-11 | Three     | mobile    |\n",
       "| 11 | 16/10/14 22:18 |    1.000 | sms  | 2014-11 | Meteor    | mobile    |\n",
       "| 12 | 16/10/14 22:21 |    1.000 | sms  | 2014-11 | Meteor    | mobile    |\n",
       "| 13 | 17/10/14 06:58 |   34.429 | data | 2014-11 | data      | data      |\n",
       "| 14 | 17/10/14 10:53 |    1.000 | sms  | 2014-11 | Tesco     | mobile    |\n",
       "| 15 | 17/10/14 11:19 |    1.000 | sms  | 2014-11 | Tesco     | mobile    |\n",
       "| 16 | 17/10/14 11:20 |    1.000 | sms  | 2014-11 | Meteor    | mobile    |\n",
       "| 17 | 17/10/14 17:22 |    1.000 | sms  | 2014-11 | Vodafone  | mobile    |\n",
       "| 18 | 17/10/14 17:23 |    1.000 | sms  | 2014-11 | Vodafone  | mobile    |\n",
       "| 19 | 17/10/14 17:26 |   92.000 | call | 2014-11 | Three     | mobile    |\n",
       "| 20 | 17/10/14 17:29 |    4.000 | call | 2014-11 | Vodafone  | mobile    |\n",
       "| 21 | 17/10/14 17:30 |  375.000 | call | 2014-11 | Tesco     | mobile    |\n",
       "| 22 | 17/10/14 17:42 |    1.000 | sms  | 2014-11 | Vodafone  | mobile    |\n",
       "| 23 | 17/10/14 17:44 |    1.000 | sms  | 2014-11 | Vodafone  | mobile    |\n",
       "| 24 | 17/10/14 17:44 |    1.000 | sms  | 2014-11 | Vodafone  | mobile    |\n",
       "| 25 | 17/10/14 17:44 |    1.000 | sms  | 2014-11 | Vodafone  | mobile    |\n",
       "| 26 | 18/10/14 06:58 |   34.429 | data | 2014-11 | data      | data      |\n",
       "| 27 | 18/10/14 11:51 |  783.000 | call | 2014-11 | Tesco     | mobile    |\n",
       "| 28 | 18/10/14 12:06 |    4.000 | call | 2014-11 | Vodafone  | mobile    |\n",
       "| 29 | 18/10/14 12:06 |    3.000 | call | 2014-11 | Vodafone  | mobile    |\n",
       "| ⋮ | ⋮ | ⋮ | ⋮ | ⋮ | ⋮ | ⋮ |\n",
       "| 800 | 2/3/2015 14:53 |     2.000 | call | 2015-03 | voicemail | voicemail |\n",
       "| 801 | 2/3/2015 14:54 |    93.000 | call | 2015-03 | voicemail | voicemail |\n",
       "| 802 | 2/3/2015 17:35 |   192.000 | call | 2015-03 | Meteor    | mobile    |\n",
       "| 803 | 2/3/2015 20:48 |    34.000 | call | 2015-03 | Tesco     | mobile    |\n",
       "| 804 | 3/3/2015 6:58  |    34.429 | data | 2015-03 | data      | data      |\n",
       "| 805 | 3/3/2015 9:57  |    76.000 | call | 2015-03 | landline  | landline  |\n",
       "| 806 | 3/3/2015 9:59  |   355.000 | call | 2015-03 | Three     | mobile    |\n",
       "| 807 | 3/3/2015 10:12 |   745.000 | call | 2015-03 | Vodafone  | mobile    |\n",
       "| 808 | 3/3/2015 10:27 |    57.000 | call | 2015-03 | Vodafone  | mobile    |\n",
       "| 809 | 3/3/2015 14:34 |  1325.000 | call | 2015-03 | Vodafone  | mobile    |\n",
       "| 810 | 3/3/2015 18:36 |   768.000 | call | 2015-03 | Three     | mobile    |\n",
       "| 811 | 4/3/2015 6:58  |    34.429 | data | 2015-03 | data      | data      |\n",
       "| 812 | 4/3/2015 7:02  |     1.000 | sms  | 2015-03 | Vodafone  | mobile    |\n",
       "| 813 | 4/3/2015 7:16  |     1.000 | sms  | 2015-03 | Vodafone  | mobile    |\n",
       "| 814 | 4/3/2015 10:30 |     1.000 | sms  | 2015-03 | Three     | mobile    |\n",
       "| 815 | 4/3/2015 10:30 |     1.000 | sms  | 2015-03 | Three     | mobile    |\n",
       "| 816 | 4/3/2015 12:29 | 10528.000 | call | 2015-03 | landline  | landline  |\n",
       "| 817 | 5/3/2015 6:58  |    34.429 | data | 2015-03 | data      | data      |\n",
       "| 818 | 6/3/2015 6:58  |    34.429 | data | 2015-03 | data      | data      |\n",
       "| 819 | 7/3/2015 6:58  |    34.429 | data | 2015-03 | data      | data      |\n",
       "| 820 | 8/3/2015 6:58  |    34.429 | data | 2015-03 | data      | data      |\n",
       "| 821 | 9/3/2015 6:58  |    34.429 | data | 2015-03 | data      | data      |\n",
       "| 822 | 10/3/2015 6:58 |    34.429 | data | 2015-03 | data      | data      |\n",
       "| 823 | 11/3/2015 6:58 |    34.429 | data | 2015-03 | data      | data      |\n",
       "| 824 | 12/3/2015 6:58 |    34.429 | data | 2015-03 | data      | data      |\n",
       "| 825 | 13/03/15 00:38 |     1.000 | sms  | 2015-03 | world     | world     |\n",
       "| 826 | 13/03/15 00:39 |     1.000 | sms  | 2015-03 | Vodafone  | mobile    |\n",
       "| 827 | 13/03/15 06:58 |    34.429 | data | 2015-03 | data      | data      |\n",
       "| 828 | 14/03/15 00:13 |     1.000 | sms  | 2015-03 | world     | world     |\n",
       "| 829 | 14/03/15 00:16 |     1.000 | sms  | 2015-03 | world     | world     |\n",
       "\n"
      ],
      "text/plain": [
       "    index date           duration  item month   network   network_type\n",
       "1    0    15/10/14 06:58   34.429  data 2014-11 data      data        \n",
       "2    1    15/10/14 06:58   13.000  call 2014-11 Vodafone  mobile      \n",
       "3    2    15/10/14 14:46   23.000  call 2014-11 Meteor    mobile      \n",
       "4    3    15/10/14 14:48    4.000  call 2014-11 Tesco     mobile      \n",
       "5    4    15/10/14 17:27    4.000  call 2014-11 Tesco     mobile      \n",
       "6    5    15/10/14 18:55    4.000  call 2014-11 Tesco     mobile      \n",
       "7    6    16/10/14 06:58   34.429  data 2014-11 data      data        \n",
       "8    7    16/10/14 15:01  602.000  call 2014-11 Three     mobile      \n",
       "9    8    16/10/14 15:12 1050.000  call 2014-11 Three     mobile      \n",
       "10   9    16/10/14 15:30   19.000  call 2014-11 voicemail voicemail   \n",
       "11  10    16/10/14 16:21 1183.000  call 2014-11 Three     mobile      \n",
       "12  11    16/10/14 22:18    1.000  sms  2014-11 Meteor    mobile      \n",
       "13  12    16/10/14 22:21    1.000  sms  2014-11 Meteor    mobile      \n",
       "14  13    17/10/14 06:58   34.429  data 2014-11 data      data        \n",
       "15  14    17/10/14 10:53    1.000  sms  2014-11 Tesco     mobile      \n",
       "16  15    17/10/14 11:19    1.000  sms  2014-11 Tesco     mobile      \n",
       "17  16    17/10/14 11:20    1.000  sms  2014-11 Meteor    mobile      \n",
       "18  17    17/10/14 17:22    1.000  sms  2014-11 Vodafone  mobile      \n",
       "19  18    17/10/14 17:23    1.000  sms  2014-11 Vodafone  mobile      \n",
       "20  19    17/10/14 17:26   92.000  call 2014-11 Three     mobile      \n",
       "21  20    17/10/14 17:29    4.000  call 2014-11 Vodafone  mobile      \n",
       "22  21    17/10/14 17:30  375.000  call 2014-11 Tesco     mobile      \n",
       "23  22    17/10/14 17:42    1.000  sms  2014-11 Vodafone  mobile      \n",
       "24  23    17/10/14 17:44    1.000  sms  2014-11 Vodafone  mobile      \n",
       "25  24    17/10/14 17:44    1.000  sms  2014-11 Vodafone  mobile      \n",
       "26  25    17/10/14 17:44    1.000  sms  2014-11 Vodafone  mobile      \n",
       "27  26    18/10/14 06:58   34.429  data 2014-11 data      data        \n",
       "28  27    18/10/14 11:51  783.000  call 2014-11 Tesco     mobile      \n",
       "29  28    18/10/14 12:06    4.000  call 2014-11 Vodafone  mobile      \n",
       "30  29    18/10/14 12:06    3.000  call 2014-11 Vodafone  mobile      \n",
       "⋮   ⋮     ⋮              ⋮         ⋮    ⋮       ⋮         ⋮           \n",
       "801 800   2/3/2015 14:53     2.000 call 2015-03 voicemail voicemail   \n",
       "802 801   2/3/2015 14:54    93.000 call 2015-03 voicemail voicemail   \n",
       "803 802   2/3/2015 17:35   192.000 call 2015-03 Meteor    mobile      \n",
       "804 803   2/3/2015 20:48    34.000 call 2015-03 Tesco     mobile      \n",
       "805 804   3/3/2015 6:58     34.429 data 2015-03 data      data        \n",
       "806 805   3/3/2015 9:57     76.000 call 2015-03 landline  landline    \n",
       "807 806   3/3/2015 9:59    355.000 call 2015-03 Three     mobile      \n",
       "808 807   3/3/2015 10:12   745.000 call 2015-03 Vodafone  mobile      \n",
       "809 808   3/3/2015 10:27    57.000 call 2015-03 Vodafone  mobile      \n",
       "810 809   3/3/2015 14:34  1325.000 call 2015-03 Vodafone  mobile      \n",
       "811 810   3/3/2015 18:36   768.000 call 2015-03 Three     mobile      \n",
       "812 811   4/3/2015 6:58     34.429 data 2015-03 data      data        \n",
       "813 812   4/3/2015 7:02      1.000 sms  2015-03 Vodafone  mobile      \n",
       "814 813   4/3/2015 7:16      1.000 sms  2015-03 Vodafone  mobile      \n",
       "815 814   4/3/2015 10:30     1.000 sms  2015-03 Three     mobile      \n",
       "816 815   4/3/2015 10:30     1.000 sms  2015-03 Three     mobile      \n",
       "817 816   4/3/2015 12:29 10528.000 call 2015-03 landline  landline    \n",
       "818 817   5/3/2015 6:58     34.429 data 2015-03 data      data        \n",
       "819 818   6/3/2015 6:58     34.429 data 2015-03 data      data        \n",
       "820 819   7/3/2015 6:58     34.429 data 2015-03 data      data        \n",
       "821 820   8/3/2015 6:58     34.429 data 2015-03 data      data        \n",
       "822 821   9/3/2015 6:58     34.429 data 2015-03 data      data        \n",
       "823 822   10/3/2015 6:58    34.429 data 2015-03 data      data        \n",
       "824 823   11/3/2015 6:58    34.429 data 2015-03 data      data        \n",
       "825 824   12/3/2015 6:58    34.429 data 2015-03 data      data        \n",
       "826 825   13/03/15 00:38     1.000 sms  2015-03 world     world       \n",
       "827 826   13/03/15 00:39     1.000 sms  2015-03 Vodafone  mobile      \n",
       "828 827   13/03/15 06:58    34.429 data 2015-03 data      data        \n",
       "829 828   14/03/15 00:13     1.000 sms  2015-03 world     world       \n",
       "830 829   14/03/15 00:16     1.000 sms  2015-03 world     world       "
      ]
     },
     "metadata": {},
     "output_type": "display_data"
    }
   ],
   "source": [
    "phone_data"
   ]
  },
  {
   "cell_type": "code",
   "execution_count": 4,
   "id": "fd2e6a41-9387-41c2-8951-d76a2e08ae1a",
   "metadata": {},
   "outputs": [
    {
     "data": {
      "text/html": [
       "215"
      ],
      "text/latex": [
       "215"
      ],
      "text/markdown": [
       "215"
      ],
      "text/plain": [
       "[1] 215"
      ]
     },
     "metadata": {},
     "output_type": "display_data"
    }
   ],
   "source": [
    "vodafone_users <- phone_data %>%\n",
    " filter(network == \"Vodafone\") %>%\n",
    " nrow()\n",
    "vodafone_users"
   ]
  },
  {
   "cell_type": "code",
   "execution_count": 5,
   "id": "d05c57fd-73e7-4c09-a237-4ceaae73c37d",
   "metadata": {},
   "outputs": [
    {
     "data": {
      "text/html": [
       "435"
      ],
      "text/latex": [
       "435"
      ],
      "text/markdown": [
       "435"
      ],
      "text/plain": [
       "[1] 435"
      ]
     },
     "metadata": {},
     "output_type": "display_data"
    }
   ],
   "source": [
    "number_of_calls <- sum(phone_data$duration > 15)\n",
    "\n",
    "number_of_calls"
   ]
  },
  {
   "cell_type": "code",
   "execution_count": 6,
   "id": "bcb90777-786a-4716-9a11-36ce3d2ea8de",
   "metadata": {},
   "outputs": [
    {
     "name": "stdout",
     "output_type": "stream",
     "text": [
      "  index           date duration item   month  network network_type\n",
      "1   816 4/3/2015 12:29    10528 call 2015-03 landline     landline\n",
      "2   252 19/11/14 18:56     2120 call 2014-12    Three       mobile\n",
      "3    59 23/10/14 08:34     1940 call 2014-11 landline     landline\n",
      "4   648 25/01/15 16:55     1863 call 2015-02    Three       mobile\n",
      "5   398 17/12/14 18:08     1859 call 2015-01 Vodafone       mobile\n"
     ]
    }
   ],
   "source": [
    "top5_duration_calls <- phone_data %>%\n",
    " filter(item == \"call\") %>%\n",
    " arrange(desc(duration)) %>%\n",
    " distinct(month, .keep_all = TRUE) %>%\n",
    " head(5)\n",
    "\n",
    "print(top5_duration_calls)"
   ]
  },
  {
   "cell_type": "code",
   "execution_count": 7,
   "id": "e769b3c3-1b04-415b-ae1e-1399ae1f726d",
   "metadata": {},
   "outputs": [
    {
     "data": {
      "text/html": [
       "<table class=\"dataframe\">\n",
       "<caption>A tibble: 6 × 2</caption>\n",
       "<thead>\n",
       "\t<tr><th scope=col>network_type</th><th scope=col>avg_duration</th></tr>\n",
       "\t<tr><th scope=col>&lt;chr&gt;</th><th scope=col>&lt;dbl&gt;</th></tr>\n",
       "</thead>\n",
       "<tbody>\n",
       "\t<tr><td>data     </td><td> 34.42900</td></tr>\n",
       "\t<tr><td>landline </td><td>438.88095</td></tr>\n",
       "\t<tr><td>mobile   </td><td>120.45757</td></tr>\n",
       "\t<tr><td>special  </td><td>  1.00000</td></tr>\n",
       "\t<tr><td>voicemail</td><td> 65.74074</td></tr>\n",
       "\t<tr><td>world    </td><td>  1.00000</td></tr>\n",
       "</tbody>\n",
       "</table>\n"
      ],
      "text/latex": [
       "A tibble: 6 × 2\n",
       "\\begin{tabular}{ll}\n",
       " network\\_type & avg\\_duration\\\\\n",
       " <chr> & <dbl>\\\\\n",
       "\\hline\n",
       "\t data      &  34.42900\\\\\n",
       "\t landline  & 438.88095\\\\\n",
       "\t mobile    & 120.45757\\\\\n",
       "\t special   &   1.00000\\\\\n",
       "\t voicemail &  65.74074\\\\\n",
       "\t world     &   1.00000\\\\\n",
       "\\end{tabular}\n"
      ],
      "text/markdown": [
       "\n",
       "A tibble: 6 × 2\n",
       "\n",
       "| network_type &lt;chr&gt; | avg_duration &lt;dbl&gt; |\n",
       "|---|---|\n",
       "| data      |  34.42900 |\n",
       "| landline  | 438.88095 |\n",
       "| mobile    | 120.45757 |\n",
       "| special   |   1.00000 |\n",
       "| voicemail |  65.74074 |\n",
       "| world     |   1.00000 |\n",
       "\n"
      ],
      "text/plain": [
       "  network_type avg_duration\n",
       "1 data          34.42900   \n",
       "2 landline     438.88095   \n",
       "3 mobile       120.45757   \n",
       "4 special        1.00000   \n",
       "5 voicemail     65.74074   \n",
       "6 world          1.00000   "
      ]
     },
     "metadata": {},
     "output_type": "display_data"
    }
   ],
   "source": [
    "avg_duration_by_network_type <- phone_data %>%\n",
    " group_by(network_type) %>%\n",
    " summarise(avg_duration = mean(duration))\n",
    "avg_duration_by_network_type"
   ]
  },
  {
   "cell_type": "code",
   "execution_count": 8,
   "id": "6a17060e-081d-4936-addc-38a8589e4c8d",
   "metadata": {},
   "outputs": [
    {
     "name": "stderr",
     "output_type": "stream",
     "text": [
      "\u001b[1m\u001b[22m`summarise()` has grouped output by 'item'. You can override using the\n",
      "`.groups` argument.\n"
     ]
    },
    {
     "data": {
      "text/html": [
       "<table class=\"dataframe\">\n",
       "<caption>A grouped_df: 13 × 3</caption>\n",
       "<thead>\n",
       "\t<tr><th scope=col>item</th><th scope=col>network</th><th scope=col>avg_duration</th></tr>\n",
       "\t<tr><th scope=col>&lt;chr&gt;</th><th scope=col>&lt;chr&gt;</th><th scope=col>&lt;dbl&gt;</th></tr>\n",
       "</thead>\n",
       "<tbody>\n",
       "\t<tr><td>call</td><td>Meteor   </td><td>133.33333</td></tr>\n",
       "\t<tr><td>call</td><td>Tesco    </td><td>194.76056</td></tr>\n",
       "\t<tr><td>call</td><td>Three    </td><td>284.87500</td></tr>\n",
       "\t<tr><td>call</td><td>Vodafone </td><td>221.53030</td></tr>\n",
       "\t<tr><td>call</td><td>landline </td><td>438.88095</td></tr>\n",
       "\t<tr><td>call</td><td>voicemail</td><td> 65.74074</td></tr>\n",
       "\t<tr><td>data</td><td>data     </td><td> 34.42900</td></tr>\n",
       "\t<tr><td>sms </td><td>Meteor   </td><td>  1.00000</td></tr>\n",
       "\t<tr><td>sms </td><td>Tesco    </td><td>  1.00000</td></tr>\n",
       "\t<tr><td>sms </td><td>Three    </td><td>  1.00000</td></tr>\n",
       "\t<tr><td>sms </td><td>Vodafone </td><td>  1.00000</td></tr>\n",
       "\t<tr><td>sms </td><td>special  </td><td>  1.00000</td></tr>\n",
       "\t<tr><td>sms </td><td>world    </td><td>  1.00000</td></tr>\n",
       "</tbody>\n",
       "</table>\n"
      ],
      "text/latex": [
       "A grouped\\_df: 13 × 3\n",
       "\\begin{tabular}{lll}\n",
       " item & network & avg\\_duration\\\\\n",
       " <chr> & <chr> & <dbl>\\\\\n",
       "\\hline\n",
       "\t call & Meteor    & 133.33333\\\\\n",
       "\t call & Tesco     & 194.76056\\\\\n",
       "\t call & Three     & 284.87500\\\\\n",
       "\t call & Vodafone  & 221.53030\\\\\n",
       "\t call & landline  & 438.88095\\\\\n",
       "\t call & voicemail &  65.74074\\\\\n",
       "\t data & data      &  34.42900\\\\\n",
       "\t sms  & Meteor    &   1.00000\\\\\n",
       "\t sms  & Tesco     &   1.00000\\\\\n",
       "\t sms  & Three     &   1.00000\\\\\n",
       "\t sms  & Vodafone  &   1.00000\\\\\n",
       "\t sms  & special   &   1.00000\\\\\n",
       "\t sms  & world     &   1.00000\\\\\n",
       "\\end{tabular}\n"
      ],
      "text/markdown": [
       "\n",
       "A grouped_df: 13 × 3\n",
       "\n",
       "| item &lt;chr&gt; | network &lt;chr&gt; | avg_duration &lt;dbl&gt; |\n",
       "|---|---|---|\n",
       "| call | Meteor    | 133.33333 |\n",
       "| call | Tesco     | 194.76056 |\n",
       "| call | Three     | 284.87500 |\n",
       "| call | Vodafone  | 221.53030 |\n",
       "| call | landline  | 438.88095 |\n",
       "| call | voicemail |  65.74074 |\n",
       "| data | data      |  34.42900 |\n",
       "| sms  | Meteor    |   1.00000 |\n",
       "| sms  | Tesco     |   1.00000 |\n",
       "| sms  | Three     |   1.00000 |\n",
       "| sms  | Vodafone  |   1.00000 |\n",
       "| sms  | special   |   1.00000 |\n",
       "| sms  | world     |   1.00000 |\n",
       "\n"
      ],
      "text/plain": [
       "   item network   avg_duration\n",
       "1  call Meteor    133.33333   \n",
       "2  call Tesco     194.76056   \n",
       "3  call Three     284.87500   \n",
       "4  call Vodafone  221.53030   \n",
       "5  call landline  438.88095   \n",
       "6  call voicemail  65.74074   \n",
       "7  data data       34.42900   \n",
       "8  sms  Meteor      1.00000   \n",
       "9  sms  Tesco       1.00000   \n",
       "10 sms  Three       1.00000   \n",
       "11 sms  Vodafone    1.00000   \n",
       "12 sms  special     1.00000   \n",
       "13 sms  world       1.00000   "
      ]
     },
     "metadata": {},
     "output_type": "display_data"
    }
   ],
   "source": [
    "avg_duration_by_item_network <- phone_data %>%\n",
    " group_by(item, network) %>%\n",
    " summarise(avg_duration = mean(duration))\n",
    "avg_duration_by_item_network"
   ]
  },
  {
   "cell_type": "code",
   "execution_count": 9,
   "id": "24c06be3-7ce2-4f27-89fa-113a2ab97faa",
   "metadata": {},
   "outputs": [
    {
     "name": "stderr",
     "output_type": "stream",
     "text": [
      "\u001b[1m\u001b[22m`summarise()` has grouped output by 'item'. You can override using the\n",
      "`.groups` argument.\n"
     ]
    },
    {
     "data": {
      "text/html": [
       "<table class=\"dataframe\">\n",
       "<caption>A grouped_df: 13 × 3</caption>\n",
       "<thead>\n",
       "\t<tr><th scope=col>item</th><th scope=col>network</th><th scope=col>count</th></tr>\n",
       "\t<tr><th scope=col>&lt;chr&gt;</th><th scope=col>&lt;chr&gt;</th><th scope=col>&lt;int&gt;</th></tr>\n",
       "</thead>\n",
       "<tbody>\n",
       "\t<tr><td>call</td><td>Meteor   </td><td> 54</td></tr>\n",
       "\t<tr><td>call</td><td>Tesco    </td><td> 71</td></tr>\n",
       "\t<tr><td>call</td><td>Three    </td><td>128</td></tr>\n",
       "\t<tr><td>call</td><td>Vodafone </td><td> 66</td></tr>\n",
       "\t<tr><td>call</td><td>landline </td><td> 42</td></tr>\n",
       "\t<tr><td>call</td><td>voicemail</td><td> 27</td></tr>\n",
       "\t<tr><td>data</td><td>data     </td><td>150</td></tr>\n",
       "\t<tr><td>sms </td><td>Meteor   </td><td> 33</td></tr>\n",
       "\t<tr><td>sms </td><td>Tesco    </td><td> 13</td></tr>\n",
       "\t<tr><td>sms </td><td>Three    </td><td> 87</td></tr>\n",
       "\t<tr><td>sms </td><td>Vodafone </td><td>149</td></tr>\n",
       "\t<tr><td>sms </td><td>special  </td><td>  3</td></tr>\n",
       "\t<tr><td>sms </td><td>world    </td><td>  7</td></tr>\n",
       "</tbody>\n",
       "</table>\n"
      ],
      "text/latex": [
       "A grouped\\_df: 13 × 3\n",
       "\\begin{tabular}{lll}\n",
       " item & network & count\\\\\n",
       " <chr> & <chr> & <int>\\\\\n",
       "\\hline\n",
       "\t call & Meteor    &  54\\\\\n",
       "\t call & Tesco     &  71\\\\\n",
       "\t call & Three     & 128\\\\\n",
       "\t call & Vodafone  &  66\\\\\n",
       "\t call & landline  &  42\\\\\n",
       "\t call & voicemail &  27\\\\\n",
       "\t data & data      & 150\\\\\n",
       "\t sms  & Meteor    &  33\\\\\n",
       "\t sms  & Tesco     &  13\\\\\n",
       "\t sms  & Three     &  87\\\\\n",
       "\t sms  & Vodafone  & 149\\\\\n",
       "\t sms  & special   &   3\\\\\n",
       "\t sms  & world     &   7\\\\\n",
       "\\end{tabular}\n"
      ],
      "text/markdown": [
       "\n",
       "A grouped_df: 13 × 3\n",
       "\n",
       "| item &lt;chr&gt; | network &lt;chr&gt; | count &lt;int&gt; |\n",
       "|---|---|---|\n",
       "| call | Meteor    |  54 |\n",
       "| call | Tesco     |  71 |\n",
       "| call | Three     | 128 |\n",
       "| call | Vodafone  |  66 |\n",
       "| call | landline  |  42 |\n",
       "| call | voicemail |  27 |\n",
       "| data | data      | 150 |\n",
       "| sms  | Meteor    |  33 |\n",
       "| sms  | Tesco     |  13 |\n",
       "| sms  | Three     |  87 |\n",
       "| sms  | Vodafone  | 149 |\n",
       "| sms  | special   |   3 |\n",
       "| sms  | world     |   7 |\n",
       "\n"
      ],
      "text/plain": [
       "   item network   count\n",
       "1  call Meteor     54  \n",
       "2  call Tesco      71  \n",
       "3  call Three     128  \n",
       "4  call Vodafone   66  \n",
       "5  call landline   42  \n",
       "6  call voicemail  27  \n",
       "7  data data      150  \n",
       "8  sms  Meteor     33  \n",
       "9  sms  Tesco      13  \n",
       "10 sms  Three      87  \n",
       "11 sms  Vodafone  149  \n",
       "12 sms  special     3  \n",
       "13 sms  world       7  "
      ]
     },
     "metadata": {},
     "output_type": "display_data"
    }
   ],
   "source": [
    "count_by_item_network <- phone_data %>%\n",
    " group_by(item, network) %>%\n",
    " summarise(count = n())\n",
    "count_by_item_network"
   ]
  },
  {
   "cell_type": "code",
   "execution_count": 10,
   "id": "9bfb4199-b258-4881-b5fc-a8106f0868fc",
   "metadata": {},
   "outputs": [
    {
     "data": {
      "text/html": [
       "<table class=\"dataframe\">\n",
       "<caption>A tibble: 1 × 2</caption>\n",
       "<thead>\n",
       "\t<tr><th scope=col>month</th><th scope=col>count</th></tr>\n",
       "\t<tr><th scope=col>&lt;chr&gt;</th><th scope=col>&lt;int&gt;</th></tr>\n",
       "</thead>\n",
       "<tbody>\n",
       "\t<tr><td>2014-11</td><td>107</td></tr>\n",
       "</tbody>\n",
       "</table>\n"
      ],
      "text/latex": [
       "A tibble: 1 × 2\n",
       "\\begin{tabular}{ll}\n",
       " month & count\\\\\n",
       " <chr> & <int>\\\\\n",
       "\\hline\n",
       "\t 2014-11 & 107\\\\\n",
       "\\end{tabular}\n"
      ],
      "text/markdown": [
       "\n",
       "A tibble: 1 × 2\n",
       "\n",
       "| month &lt;chr&gt; | count &lt;int&gt; |\n",
       "|---|---|\n",
       "| 2014-11 | 107 |\n",
       "\n"
      ],
      "text/plain": [
       "  month   count\n",
       "1 2014-11 107  "
      ]
     },
     "metadata": {},
     "output_type": "display_data"
    }
   ],
   "source": [
    "month_with_max_calls <- phone_data %>%\n",
    " filter(item == \"call\") %>%\n",
    " group_by(month) %>%\n",
    " summarise(count = n()) %>%\n",
    " arrange(desc(count)) %>%\n",
    " head(1)\n",
    "month_with_max_calls"
   ]
  },
  {
   "cell_type": "code",
   "execution_count": 11,
   "id": "5e8ff4e4-831d-4810-8e34-03a249637a5f",
   "metadata": {},
   "outputs": [
    {
     "data": {
      "text/html": [
       "7"
      ],
      "text/latex": [
       "7"
      ],
      "text/markdown": [
       "7"
      ],
      "text/plain": [
       "[1] 7"
      ]
     },
     "metadata": {},
     "output_type": "display_data"
    }
   ],
   "source": [
    "total_messages_world_users <- phone_data %>%\n",
    " filter(network == \"world\" & item == \"sms\") %>%\n",
    " nrow()\n",
    "total_messages_world_users"
   ]
  },
  {
   "cell_type": "code",
   "execution_count": 12,
   "id": "d8072aa1-b1cd-4b84-b348-a1c78289571a",
   "metadata": {},
   "outputs": [
    {
     "data": {
      "text/html": [
       "0.104819277108434"
      ],
      "text/latex": [
       "0.104819277108434"
      ],
      "text/markdown": [
       "0.104819277108434"
      ],
      "text/plain": [
       "[1] 0.1048193"
      ]
     },
     "metadata": {},
     "output_type": "display_data"
    }
   ],
   "source": [
    "proportion_meteor_users <- phone_data %>%\n",
    " filter(network == \"Meteor\") %>%\n",
    " nrow() / nrow(phone_data)\n",
    "proportion_meteor_users"
   ]
  },
  {
   "cell_type": "code",
   "execution_count": 13,
   "id": "4a653e4e-b028-43bc-8f6d-5c77fe3588cf",
   "metadata": {},
   "outputs": [
    {
     "data": {
      "text/html": [
       "<table class=\"dataframe\">\n",
       "<caption>A tibble: 1 × 2</caption>\n",
       "<thead>\n",
       "\t<tr><th scope=col>month</th><th scope=col>total_duration</th></tr>\n",
       "\t<tr><th scope=col>&lt;chr&gt;</th><th scope=col>&lt;dbl&gt;</th></tr>\n",
       "</thead>\n",
       "<tbody>\n",
       "\t<tr><td>2014-11</td><td>26639.44</td></tr>\n",
       "</tbody>\n",
       "</table>\n"
      ],
      "text/latex": [
       "A tibble: 1 × 2\n",
       "\\begin{tabular}{ll}\n",
       " month & total\\_duration\\\\\n",
       " <chr> & <dbl>\\\\\n",
       "\\hline\n",
       "\t 2014-11 & 26639.44\\\\\n",
       "\\end{tabular}\n"
      ],
      "text/markdown": [
       "\n",
       "A tibble: 1 × 2\n",
       "\n",
       "| month &lt;chr&gt; | total_duration &lt;dbl&gt; |\n",
       "|---|---|\n",
       "| 2014-11 | 26639.44 |\n",
       "\n"
      ],
      "text/plain": [
       "  month   total_duration\n",
       "1 2014-11 26639.44      "
      ]
     },
     "metadata": {},
     "output_type": "display_data"
    }
   ],
   "source": [
    "month_with_highest_duration <- phone_data %>%\n",
    " group_by(month) %>%\n",
    " summarise(total_duration = sum(duration)) %>%\n",
    " arrange(desc(total_duration)) %>%\n",
    " head(1)\n",
    "month_with_highest_duration"
   ]
  },
  {
   "cell_type": "code",
   "execution_count": null,
   "id": "474a9d5a-75aa-49ec-be09-5492150d7ee5",
   "metadata": {},
   "outputs": [],
   "source": []
  }
 ],
 "metadata": {
  "kernelspec": {
   "display_name": "R",
   "language": "R",
   "name": "ir"
  },
  "language_info": {
   "codemirror_mode": "r",
   "file_extension": ".r",
   "mimetype": "text/x-r-source",
   "name": "R",
   "pygments_lexer": "r",
   "version": "4.3.1"
  }
 },
 "nbformat": 4,
 "nbformat_minor": 5
}
